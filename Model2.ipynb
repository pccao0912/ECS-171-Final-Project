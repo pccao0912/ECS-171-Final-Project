{
 "cells": [
  {
   "cell_type": "markdown",
   "metadata": {},
   "source": [
    "## Second Model: Neural Net"
   ]
  },
  {
   "cell_type": "code",
   "execution_count": 33,
   "metadata": {},
   "outputs": [],
   "source": [
    "import pandas as pd\n",
    "import numpy as np\n",
    "\n",
    "df = pd.read_csv('StudentsPerformance.csv')\n",
    "df.gender = df.gender == 'male'\n",
    "df.lunch = df.lunch == 'standard'\n",
    "df['test preparation course'] = df['test preparation course'] == 'completed'\n",
    "df['race/ethnicity'] = df['race/ethnicity'].map({'group A': 0, 'group B': 1, 'group C': 2, 'group D': 3, 'group E': 4, 'group F': 5, 'group G': 6})\n",
    "df['parental level of education'] = df['parental level of education'].map({'some high school': 0, \n",
    "                                    'high school': 1, \"some college\": 2, \"associate's degree\": 3, \n",
    "                                    \"bachelor's degree\": 4, \"master's degree\": 5})\n",
    "\n",
    "df['avg score'] = df[['math score', 'reading score', 'writing score']].mean(axis=1)\n",
    "df['passed'] = df['avg score'] >= 75\n",
    "df_avg = df.drop(columns=['math score', 'reading score', 'writing score'])"
   ]
  },
  {
   "cell_type": "markdown",
   "metadata": {},
   "source": [
    "### neural net"
   ]
  },
  {
   "cell_type": "code",
   "execution_count": 34,
   "metadata": {},
   "outputs": [
    {
     "name": "stderr",
     "output_type": "stream",
     "text": [
      "/var/folders/1h/wr880g910976xz14jz1c6l0m0000gn/T/ipykernel_78491/2615086626.py:7: FutureWarning: The behavior of `series[i:j]` with an integer-dtype index is deprecated. In a future version, this will be treated as *label-based* indexing, consistent with e.g. `series[i]` lookups. To retain the old behavior, use `series.iloc[i:j]`. To get the future behavior, use `series.loc[i:j]`.\n",
      "  val_train_y = y_train_neural[:100]\n",
      "/var/folders/1h/wr880g910976xz14jz1c6l0m0000gn/T/ipykernel_78491/2615086626.py:8: FutureWarning: The behavior of `series[i:j]` with an integer-dtype index is deprecated. In a future version, this will be treated as *label-based* indexing, consistent with e.g. `series[i]` lookups. To retain the old behavior, use `series.iloc[i:j]`. To get the future behavior, use `series.loc[i:j]`.\n",
      "  y_train_neural = y_train_neural[100:]\n"
     ]
    }
   ],
   "source": [
    "from sklearn.model_selection import train_test_split\n",
    "\n",
    "X_train_neural, X_test_neural, y_train_neural, y_test_neural = train_test_split(df_avg.drop(['avg score', 'passed'], axis=1), df_avg['passed'], test_size=0.2, random_state=21)\n",
    "# we want to create a validation part of the training data to check for fitting later\n",
    "val_train_x = X_train_neural[:100]\n",
    "X_train_neural = X_train_neural[100:]\n",
    "val_train_y = y_train_neural[:100]\n",
    "y_train_neural = y_train_neural[100:]\n",
    "\n",
    "from keras.models import Sequential\n",
    "from keras.layers import Dense\n",
    "\n",
    "neural_net = Sequential()\n",
    "\n",
    "neural_net.add(Dense(units = 16, activation = 'relu', input_dim = 5))\n",
    "neural_net.add(Dense(units = 8, activation = 'tanh'))\n",
    "neural_net.add(Dense(units = 6, activation = 'linear'))\n",
    "neural_net.add(Dense(units = 1, activation = 'sigmoid'))"
   ]
  },
  {
   "cell_type": "code",
   "execution_count": 35,
   "metadata": {},
   "outputs": [
    {
     "name": "stdout",
     "output_type": "stream",
     "text": [
      "Epoch 1/50\n",
      "700/700 [==============================] - 2s 2ms/step - loss: 0.6551 - val_loss: 0.6931\n",
      "Epoch 2/50\n",
      "700/700 [==============================] - 1s 1ms/step - loss: 0.6191 - val_loss: 0.6605\n",
      "Epoch 3/50\n",
      "700/700 [==============================] - 1s 958us/step - loss: 0.5952 - val_loss: 0.6676\n",
      "Epoch 4/50\n",
      "700/700 [==============================] - 1s 1ms/step - loss: 0.5857 - val_loss: 0.7130\n",
      "Epoch 5/50\n",
      "700/700 [==============================] - 1s 1ms/step - loss: 0.5855 - val_loss: 0.6909\n",
      "Epoch 6/50\n",
      "700/700 [==============================] - 1s 1ms/step - loss: 0.5868 - val_loss: 0.6978\n",
      "Epoch 7/50\n",
      "700/700 [==============================] - 1s 959us/step - loss: 0.5838 - val_loss: 0.7056\n",
      "Epoch 8/50\n",
      "700/700 [==============================] - 1s 948us/step - loss: 0.5795 - val_loss: 0.6570\n",
      "Epoch 9/50\n",
      "700/700 [==============================] - 1s 1ms/step - loss: 0.5832 - val_loss: 0.6885\n",
      "Epoch 10/50\n",
      "700/700 [==============================] - 1s 953us/step - loss: 0.5808 - val_loss: 0.6560\n",
      "Epoch 11/50\n",
      "700/700 [==============================] - 1s 948us/step - loss: 0.5848 - val_loss: 0.6934\n",
      "Epoch 12/50\n",
      "700/700 [==============================] - 1s 952us/step - loss: 0.5819 - val_loss: 0.6956\n",
      "Epoch 13/50\n",
      "700/700 [==============================] - 1s 953us/step - loss: 0.5826 - val_loss: 0.6837\n",
      "Epoch 14/50\n",
      "700/700 [==============================] - 1s 948us/step - loss: 0.5778 - val_loss: 0.6883\n",
      "Epoch 15/50\n",
      "700/700 [==============================] - 1s 950us/step - loss: 0.5794 - val_loss: 0.6801\n",
      "Epoch 16/50\n",
      "700/700 [==============================] - 1s 951us/step - loss: 0.5805 - val_loss: 0.6736\n",
      "Epoch 17/50\n",
      "700/700 [==============================] - 1s 949us/step - loss: 0.5751 - val_loss: 0.6652\n",
      "Epoch 18/50\n",
      "700/700 [==============================] - 1s 959us/step - loss: 0.5821 - val_loss: 0.6929\n",
      "Epoch 19/50\n",
      "700/700 [==============================] - 1s 949us/step - loss: 0.5760 - val_loss: 0.7258\n",
      "Epoch 20/50\n",
      "700/700 [==============================] - 1s 956us/step - loss: 0.5792 - val_loss: 0.6638\n",
      "Epoch 21/50\n",
      "700/700 [==============================] - 1s 947us/step - loss: 0.5818 - val_loss: 0.6614\n",
      "Epoch 22/50\n",
      "700/700 [==============================] - 1s 947us/step - loss: 0.5788 - val_loss: 0.7602\n",
      "Epoch 23/50\n",
      "700/700 [==============================] - 1s 952us/step - loss: 0.5797 - val_loss: 0.7715\n",
      "Epoch 24/50\n",
      "700/700 [==============================] - 1s 948us/step - loss: 0.5828 - val_loss: 0.7292\n",
      "Epoch 25/50\n",
      "700/700 [==============================] - 1s 961us/step - loss: 0.5788 - val_loss: 0.7118\n",
      "Epoch 26/50\n",
      "700/700 [==============================] - 1s 946us/step - loss: 0.5759 - val_loss: 0.7134\n",
      "Epoch 27/50\n",
      "700/700 [==============================] - 1s 947us/step - loss: 0.5812 - val_loss: 0.6803\n",
      "Epoch 28/50\n",
      "700/700 [==============================] - 1s 947us/step - loss: 0.5764 - val_loss: 0.6697\n",
      "Epoch 29/50\n",
      "700/700 [==============================] - 1s 947us/step - loss: 0.5805 - val_loss: 0.6649\n",
      "Epoch 30/50\n",
      "700/700 [==============================] - 1s 940us/step - loss: 0.5729 - val_loss: 0.7863\n",
      "Epoch 31/50\n",
      "700/700 [==============================] - 1s 951us/step - loss: 0.5802 - val_loss: 0.6934\n",
      "Epoch 32/50\n",
      "700/700 [==============================] - 1s 971us/step - loss: 0.5829 - val_loss: 0.7013\n",
      "Epoch 33/50\n",
      "700/700 [==============================] - 1s 1ms/step - loss: 0.5736 - val_loss: 0.7008\n",
      "Epoch 34/50\n",
      "700/700 [==============================] - 1s 973us/step - loss: 0.5767 - val_loss: 0.6922\n",
      "Epoch 35/50\n",
      "700/700 [==============================] - 1s 947us/step - loss: 0.5772 - val_loss: 0.7432\n",
      "Epoch 36/50\n",
      "700/700 [==============================] - 1s 943us/step - loss: 0.5829 - val_loss: 0.6921\n",
      "Epoch 37/50\n",
      "700/700 [==============================] - 1s 946us/step - loss: 0.5791 - val_loss: 0.7644\n",
      "Epoch 38/50\n",
      "700/700 [==============================] - 1s 951us/step - loss: 0.5795 - val_loss: 0.7851\n",
      "Epoch 39/50\n",
      "700/700 [==============================] - 1s 945us/step - loss: 0.5806 - val_loss: 0.6633\n",
      "Epoch 40/50\n",
      "700/700 [==============================] - 1s 942us/step - loss: 0.5737 - val_loss: 0.7299\n",
      "Epoch 41/50\n",
      "700/700 [==============================] - 1s 951us/step - loss: 0.5785 - val_loss: 0.6976\n",
      "Epoch 42/50\n",
      "700/700 [==============================] - 1s 988us/step - loss: 0.5819 - val_loss: 0.6852\n",
      "Epoch 43/50\n",
      "700/700 [==============================] - 1s 992us/step - loss: 0.5764 - val_loss: 0.7252\n",
      "Epoch 44/50\n",
      "700/700 [==============================] - 1s 951us/step - loss: 0.5744 - val_loss: 0.7129\n",
      "Epoch 45/50\n",
      "700/700 [==============================] - 1s 948us/step - loss: 0.5802 - val_loss: 0.7180\n",
      "Epoch 46/50\n",
      "700/700 [==============================] - 1s 935us/step - loss: 0.5789 - val_loss: 0.6767\n",
      "Epoch 47/50\n",
      "700/700 [==============================] - 1s 1ms/step - loss: 0.5769 - val_loss: 0.6676\n",
      "Epoch 48/50\n",
      "700/700 [==============================] - 1s 2ms/step - loss: 0.5747 - val_loss: 0.7396\n",
      "Epoch 49/50\n",
      "700/700 [==============================] - 1s 1ms/step - loss: 0.5775 - val_loss: 0.7217\n",
      "Epoch 50/50\n",
      "700/700 [==============================] - 1s 978us/step - loss: 0.5749 - val_loss: 0.6731\n",
      "Epoch 1/50\n",
      "700/700 [==============================] - 1s 875us/step - loss: 0.5777\n",
      "Epoch 2/50\n",
      "700/700 [==============================] - 1s 846us/step - loss: 0.5814\n",
      "Epoch 3/50\n",
      "700/700 [==============================] - 1s 839us/step - loss: 0.5769\n",
      "Epoch 4/50\n",
      "700/700 [==============================] - 1s 830us/step - loss: 0.5768\n",
      "Epoch 5/50\n",
      "700/700 [==============================] - 1s 845us/step - loss: 0.5796\n",
      "Epoch 6/50\n",
      "700/700 [==============================] - 1s 828us/step - loss: 0.5808\n",
      "Epoch 7/50\n",
      "700/700 [==============================] - 1s 847us/step - loss: 0.5810\n",
      "Epoch 8/50\n",
      "700/700 [==============================] - 1s 834us/step - loss: 0.5810\n",
      "Epoch 9/50\n",
      "700/700 [==============================] - 1s 842us/step - loss: 0.5792\n",
      "Epoch 10/50\n",
      "700/700 [==============================] - 1s 844us/step - loss: 0.5809\n",
      "Epoch 11/50\n",
      "700/700 [==============================] - 1s 843us/step - loss: 0.5798\n",
      "Epoch 12/50\n",
      "700/700 [==============================] - 1s 845us/step - loss: 0.5800\n",
      "Epoch 13/50\n",
      "700/700 [==============================] - 1s 830us/step - loss: 0.5769\n",
      "Epoch 14/50\n",
      "700/700 [==============================] - 1s 837us/step - loss: 0.5720\n",
      "Epoch 15/50\n",
      "700/700 [==============================] - 1s 838us/step - loss: 0.5776\n",
      "Epoch 16/50\n",
      "700/700 [==============================] - 1s 840us/step - loss: 0.5757\n",
      "Epoch 17/50\n",
      "700/700 [==============================] - 1s 831us/step - loss: 0.5750\n",
      "Epoch 18/50\n",
      "700/700 [==============================] - 1s 838us/step - loss: 0.5768\n",
      "Epoch 19/50\n",
      "700/700 [==============================] - 1s 840us/step - loss: 0.5760\n",
      "Epoch 20/50\n",
      "700/700 [==============================] - 1s 896us/step - loss: 0.5807\n",
      "Epoch 21/50\n",
      "700/700 [==============================] - 1s 904us/step - loss: 0.5736\n",
      "Epoch 22/50\n",
      "700/700 [==============================] - 1s 856us/step - loss: 0.5829\n",
      "Epoch 23/50\n",
      "700/700 [==============================] - 1s 834us/step - loss: 0.5765\n",
      "Epoch 24/50\n",
      "700/700 [==============================] - 1s 844us/step - loss: 0.5786\n",
      "Epoch 25/50\n",
      "700/700 [==============================] - 1s 1ms/step - loss: 0.5767\n",
      "Epoch 26/50\n",
      "700/700 [==============================] - 1s 1ms/step - loss: 0.5761\n",
      "Epoch 27/50\n",
      "700/700 [==============================] - 1s 1ms/step - loss: 0.5788\n",
      "Epoch 28/50\n",
      "700/700 [==============================] - 1s 1ms/step - loss: 0.5731\n",
      "Epoch 29/50\n",
      "700/700 [==============================] - 1s 1ms/step - loss: 0.5768\n",
      "Epoch 30/50\n",
      "700/700 [==============================] - 1s 956us/step - loss: 0.5753\n",
      "Epoch 31/50\n",
      "700/700 [==============================] - 1s 943us/step - loss: 0.5752\n",
      "Epoch 32/50\n",
      "700/700 [==============================] - 1s 858us/step - loss: 0.5752\n",
      "Epoch 33/50\n",
      "700/700 [==============================] - 1s 864us/step - loss: 0.5790\n",
      "Epoch 34/50\n",
      "700/700 [==============================] - 1s 851us/step - loss: 0.5788\n",
      "Epoch 35/50\n",
      "700/700 [==============================] - 1s 857us/step - loss: 0.5736\n",
      "Epoch 36/50\n",
      "700/700 [==============================] - 1s 879us/step - loss: 0.5767\n",
      "Epoch 37/50\n",
      "700/700 [==============================] - 1s 850us/step - loss: 0.5721\n",
      "Epoch 38/50\n",
      "700/700 [==============================] - 1s 854us/step - loss: 0.5792\n",
      "Epoch 39/50\n",
      "700/700 [==============================] - 1s 854us/step - loss: 0.5781\n",
      "Epoch 40/50\n",
      "700/700 [==============================] - 1s 856us/step - loss: 0.5777\n",
      "Epoch 41/50\n",
      "700/700 [==============================] - 1s 929us/step - loss: 0.5729\n",
      "Epoch 42/50\n",
      "700/700 [==============================] - 1s 908us/step - loss: 0.5775\n",
      "Epoch 43/50\n",
      "700/700 [==============================] - 1s 931us/step - loss: 0.5783\n",
      "Epoch 44/50\n",
      "700/700 [==============================] - 1s 858us/step - loss: 0.5769\n",
      "Epoch 45/50\n",
      "700/700 [==============================] - 1s 885us/step - loss: 0.5735\n",
      "Epoch 46/50\n",
      "700/700 [==============================] - 1s 865us/step - loss: 0.5772\n",
      "Epoch 47/50\n",
      "700/700 [==============================] - 1s 851us/step - loss: 0.5813\n",
      "Epoch 48/50\n",
      "700/700 [==============================] - 1s 844us/step - loss: 0.5758\n",
      "Epoch 49/50\n",
      "700/700 [==============================] - 1s 942us/step - loss: 0.5743\n",
      "Epoch 50/50\n",
      "700/700 [==============================] - 1s 873us/step - loss: 0.5829\n"
     ]
    },
    {
     "data": {
      "text/plain": [
       "<keras.callbacks.History at 0x7fb33bb26220>"
      ]
     },
     "execution_count": 35,
     "metadata": {},
     "output_type": "execute_result"
    }
   ],
   "source": [
    "neural_net.compile(optimizer = 'rmsprop', loss = 'binary_crossentropy')\n",
    "history = neural_net.fit(X_train_neural.astype(float), y_train_neural, batch_size = 1, epochs = 50, validation_data =(val_train_x.astype(float), val_train_y))\n",
    "neural_net.fit(X_train_neural.astype(float), y_train_neural, batch_size = 1, epochs = 50)"
   ]
  },
  {
   "cell_type": "code",
   "execution_count": 36,
   "metadata": {},
   "outputs": [
    {
     "name": "stdout",
     "output_type": "stream",
     "text": [
      "7/7 [==============================] - 0s 1ms/step\n"
     ]
    }
   ],
   "source": [
    "yhat_test_neural = neural_net.predict(X_test_neural.astype(float))\n",
    "yhat_test_neural = [ 1 if y>=0.5 else 0 for y in yhat_test_neural ]\n",
    "pd.Series(yhat_test_neural)\n",
    "\n",
    "yy_test_neural = y_test_neural.astype(int).reset_index(drop = True)"
   ]
  },
  {
   "cell_type": "code",
   "execution_count": 37,
   "metadata": {},
   "outputs": [],
   "source": [
    "#(i and j) or (not (i or j))\n",
    "def xnor(i, j):\n",
    "  return int((i and j) or (not (i or j)))"
   ]
  },
  {
   "cell_type": "code",
   "execution_count": 38,
   "metadata": {},
   "outputs": [
    {
     "data": {
      "text/html": [
       "<div>\n",
       "<style scoped>\n",
       "    .dataframe tbody tr th:only-of-type {\n",
       "        vertical-align: middle;\n",
       "    }\n",
       "\n",
       "    .dataframe tbody tr th {\n",
       "        vertical-align: top;\n",
       "    }\n",
       "\n",
       "    .dataframe thead th {\n",
       "        text-align: right;\n",
       "    }\n",
       "</style>\n",
       "<table border=\"1\" class=\"dataframe\">\n",
       "  <thead>\n",
       "    <tr style=\"text-align: right;\">\n",
       "      <th></th>\n",
       "      <th>yhat_test</th>\n",
       "      <th>y_test</th>\n",
       "      <th>correct</th>\n",
       "    </tr>\n",
       "  </thead>\n",
       "  <tbody>\n",
       "    <tr>\n",
       "      <th>0</th>\n",
       "      <td>0</td>\n",
       "      <td>1</td>\n",
       "      <td>0</td>\n",
       "    </tr>\n",
       "    <tr>\n",
       "      <th>1</th>\n",
       "      <td>0</td>\n",
       "      <td>0</td>\n",
       "      <td>1</td>\n",
       "    </tr>\n",
       "    <tr>\n",
       "      <th>2</th>\n",
       "      <td>0</td>\n",
       "      <td>0</td>\n",
       "      <td>1</td>\n",
       "    </tr>\n",
       "    <tr>\n",
       "      <th>3</th>\n",
       "      <td>0</td>\n",
       "      <td>0</td>\n",
       "      <td>1</td>\n",
       "    </tr>\n",
       "    <tr>\n",
       "      <th>4</th>\n",
       "      <td>0</td>\n",
       "      <td>0</td>\n",
       "      <td>1</td>\n",
       "    </tr>\n",
       "    <tr>\n",
       "      <th>...</th>\n",
       "      <td>...</td>\n",
       "      <td>...</td>\n",
       "      <td>...</td>\n",
       "    </tr>\n",
       "    <tr>\n",
       "      <th>195</th>\n",
       "      <td>0</td>\n",
       "      <td>0</td>\n",
       "      <td>1</td>\n",
       "    </tr>\n",
       "    <tr>\n",
       "      <th>196</th>\n",
       "      <td>0</td>\n",
       "      <td>0</td>\n",
       "      <td>1</td>\n",
       "    </tr>\n",
       "    <tr>\n",
       "      <th>197</th>\n",
       "      <td>0</td>\n",
       "      <td>1</td>\n",
       "      <td>0</td>\n",
       "    </tr>\n",
       "    <tr>\n",
       "      <th>198</th>\n",
       "      <td>0</td>\n",
       "      <td>0</td>\n",
       "      <td>1</td>\n",
       "    </tr>\n",
       "    <tr>\n",
       "      <th>199</th>\n",
       "      <td>0</td>\n",
       "      <td>0</td>\n",
       "      <td>1</td>\n",
       "    </tr>\n",
       "  </tbody>\n",
       "</table>\n",
       "<p>200 rows × 3 columns</p>\n",
       "</div>"
      ],
      "text/plain": [
       "     yhat_test  y_test  correct\n",
       "0            0       1        0\n",
       "1            0       0        1\n",
       "2            0       0        1\n",
       "3            0       0        1\n",
       "4            0       0        1\n",
       "..         ...     ...      ...\n",
       "195          0       0        1\n",
       "196          0       0        1\n",
       "197          0       1        0\n",
       "198          0       0        1\n",
       "199          0       0        1\n",
       "\n",
       "[200 rows x 3 columns]"
      ]
     },
     "execution_count": 38,
     "metadata": {},
     "output_type": "execute_result"
    }
   ],
   "source": [
    "testdf = pd.DataFrame()\n",
    "testdf['yhat_test'] = yhat_test_neural\n",
    "testdf['y_test'] = yy_test_neural\n",
    "testdf['correct'] = testdf.apply(lambda x: xnor(x.yhat_test, x.y_test), axis=1)\n",
    "testdf"
   ]
  },
  {
   "cell_type": "code",
   "execution_count": 39,
   "metadata": {},
   "outputs": [
    {
     "name": "stdout",
     "output_type": "stream",
     "text": [
      "Total 200\n",
      "Correct 147\n",
      "Wrong 53\n"
     ]
    }
   ],
   "source": [
    "print(\"Total \" + str(testdf.shape[0]))\n",
    "print(\"Correct \" + str(testdf.correct.sum()))\n",
    "print(\"Wrong \" + str(testdf.shape[0] - testdf.correct.sum()))"
   ]
  },
  {
   "cell_type": "markdown",
   "metadata": {},
   "source": [
    "### Checking for Underfitting and Overfitting"
   ]
  },
  {
   "cell_type": "code",
   "execution_count": 40,
   "metadata": {},
   "outputs": [
    {
     "data": {
      "image/png": "[encoded data removed]",
      "text/plain": [
       "<Figure size 640x480 with 1 Axes>"
      ]
     },
     "metadata": {},
     "output_type": "display_data"
    }
   ],
   "source": [
    "import matplotlib.pyplot as plt\n",
    "plt.figure()\n",
    "plt.plot(history.history['loss'])\n",
    "plt.plot(history.history['val_loss'])\n",
    "plt.title('Model Loss')\n",
    "plt.ylabel('Loss')\n",
    "plt.xlabel('Epochs')\n",
    "plt.legend(['train','val'], loc = 'upper left')\n",
    "plt.show()"
   ]
  },
  {
   "cell_type": "markdown",
   "metadata": {},
   "source": [
    "### Create and display confusion matrix"
   ]
  },
  {
   "cell_type": "code",
   "execution_count": 41,
   "metadata": {},
   "outputs": [
    {
     "data": {
      "text/plain": [
       "array([[138,   7],\n",
       "       [ 46,   9]])"
      ]
     },
     "metadata": {},
     "output_type": "display_data"
    },
    {
     "data": {
      "text/plain": [
       "<sklearn.metrics._plot.confusion_matrix.ConfusionMatrixDisplay at 0x7fb343cf0220>"
      ]
     },
     "execution_count": 41,
     "metadata": {},
     "output_type": "execute_result"
    },
    {
     "data": {
      "image/png": "[encoded data removed]",
      "text/plain": [
       "<Figure size 640x480 with 2 Axes>"
      ]
     },
     "metadata": {},
     "output_type": "display_data"
    }
   ],
   "source": [
    "from sklearn.metrics import confusion_matrix, ConfusionMatrixDisplay\n",
    "\n",
    "# Let's create our confusion matrix and display it\n",
    "myconfusionmatrix_neural = confusion_matrix(y_test_neural, yhat_test_neural)\n",
    "display(myconfusionmatrix_neural)\n",
    "\n",
    "mycmdisp_neural = ConfusionMatrixDisplay(confusion_matrix=myconfusionmatrix_neural)\n",
    "mycmdisp_neural.plot()"
   ]
  },
  {
   "cell_type": "code",
   "execution_count": 42,
   "metadata": {},
   "outputs": [
    {
     "name": "stdout",
     "output_type": "stream",
     "text": [
      "testing classification report\n",
      "              precision    recall  f1-score   support\n",
      "\n",
      "       False       0.75      0.95      0.84       145\n",
      "        True       0.56      0.16      0.25        55\n",
      "\n",
      "    accuracy                           0.73       200\n",
      "   macro avg       0.66      0.56      0.55       200\n",
      "weighted avg       0.70      0.73      0.68       200\n",
      "\n",
      "training classification report\n",
      "22/22 [==============================] - 0s 861us/step\n",
      "              precision    recall  f1-score   support\n",
      "\n",
      "       False       0.71      0.91      0.80       470\n",
      "        True       0.58      0.26      0.36       230\n",
      "\n",
      "    accuracy                           0.69       700\n",
      "   macro avg       0.65      0.58      0.58       700\n",
      "weighted avg       0.67      0.69      0.65       700\n",
      "\n"
     ]
    }
   ],
   "source": [
    "# Let's import our classification report and print it\n",
    "from sklearn.metrics import classification_report\n",
    "print('testing classification report')\n",
    "print(classification_report(y_test_neural, yhat_test_neural))\n",
    "\n",
    "print('training classification report')\n",
    "yhat_train_neural = neural_net.predict(X_train_neural.astype(float))\n",
    "yhat_train_neural = [ 1 if y>=0.5 else 0 for y in yhat_train_neural]\n",
    "yy_train_neural = y_train_neural.astype(int).reset_index(drop = True)\n",
    "pd.Series(yhat_train_neural)\n",
    "\n",
    "testdf = pd.DataFrame()\n",
    "testdf['yhat_train'] = yhat_train_neural\n",
    "testdf['y_train'] = yy_train_neural\n",
    "testdf['correct'] = testdf.apply(lambda x: xnor(x.yhat_train, x.y_train), axis=1)\n",
    "\n",
    "print(classification_report(y_train_neural, yhat_train_neural))\n"
   ]
  },
  {
   "cell_type": "code",
   "execution_count": 43,
   "metadata": {},
   "outputs": [],
   "source": [
    "def TP(i, j):\n",
    "    return i and j\n",
    "\n",
    "def TN(i, j):\n",
    "    return not i and not j"
   ]
  },
  {
   "cell_type": "code",
   "execution_count": 44,
   "metadata": {},
   "outputs": [
    {
     "name": "stdout",
     "output_type": "stream",
     "text": [
      "totals for testing set\n",
      "total positive for testing: 16\n",
      "TP: 9\n",
      "TN: 138\n",
      "totals for training set\n",
      "total positive for training: 102\n",
      "TP: 59\n",
      "TN: 427\n"
     ]
    }
   ],
   "source": [
    "# testing\n",
    "print('totals for testing set')\n",
    "print(f'total positive for testing: {np.count_nonzero(yhat_test_neural)}')\n",
    "testdf = pd.DataFrame()\n",
    "testdf['yhat_test'] = yhat_test_neural\n",
    "testdf['y_test'] = np.array(y_test_neural)\n",
    "print(f'TP: {np.count_nonzero(testdf.apply(lambda i: TP(i.yhat_test, i.y_test), axis=1))}')\n",
    "print(f'TN: {np.count_nonzero(testdf.apply(lambda i: TN(i.yhat_test, i.y_test), axis=1))}')\n",
    "\n",
    "# training\n",
    "print('totals for training set')\n",
    "print(f'total positive for training: {np.count_nonzero(yhat_train_neural)}')\n",
    "traindf = pd.DataFrame()\n",
    "traindf['yhat_train'] = yhat_train_neural\n",
    "traindf['y_train'] = np.array(y_train_neural)\n",
    "print(f'TP: {np.count_nonzero(traindf.apply(lambda i: TP(i.yhat_train, i.y_train), axis=1))}')\n",
    "print(f'TN: {np.count_nonzero(traindf.apply(lambda i: TN(i.yhat_train, i.y_train), axis=1))}')"
   ]
  },
  {
   "cell_type": "markdown",
   "metadata": {},
   "source": [
    "## Calculations of TP, FP, TN, FN for Neural Net model\n",
    "### Testing\n",
    "\n",
    "- total positive = 62\n",
    "- total negative = 200 - 62 = 138\n",
    "\n",
    "- true positive = 27\n",
    "- false positive = 62 - 27 = 35\n",
    "\n",
    "- true negative = 110\n",
    "- false negative = 138 - 110 = 28\n",
    "\n",
    "### Training Set\n",
    "- total positive = 305\n",
    "- total negative = 800 - 305 = 495\n",
    "\n",
    "- true positive = 160\n",
    "- false positive = 305 - 160 = 145\n",
    "\n",
    "- true negative = 386\n",
    "- false negative = 495 - 386 = 109\n"
   ]
  }
 ],
 "metadata": {
  "kernelspec": {
   "display_name": "Python 3.9.6 64-bit",
   "language": "python",
   "name": "python3"
  },
  "language_info": {
   "codemirror_mode": {
    "name": "ipython",
    "version": 3
   },
   "file_extension": ".py",
   "mimetype": "text/x-python",
   "name": "python",
   "nbconvert_exporter": "python",
   "pygments_lexer": "ipython3",
   "version": "3.9.6"
  },
  "orig_nbformat": 4,
  "vscode": {
   "interpreter": {
    "hash": "949777d72b0d2535278d3dc13498b2535136f6dfe0678499012e853ee9abcab1"
   }
  }
 },
 "nbformat": 4,
 "nbformat_minor": 2
}
