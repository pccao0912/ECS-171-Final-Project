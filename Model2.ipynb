{
 "cells": [
  {
   "cell_type": "markdown",
   "metadata": {},
   "source": [
    "## Second Model: Neural Net"
   ]
  },
  {
   "cell_type": "code",
   "execution_count": 22,
   "metadata": {},
   "outputs": [],
   "source": [
    "import pandas as pd\n",
    "import numpy as np\n",
    "\n",
    "df = pd.read_csv('StudentsPerformance.csv')\n",
    "df.gender = df.gender == 'male'\n",
    "df.lunch = df.lunch == 'standard'\n",
    "df['test preparation course'] = df['test preparation course'] == 'completed'\n",
    "df['race/ethnicity'] = df['race/ethnicity'].map({'group A': 0, 'group B': 1, 'group C': 2, 'group D': 3, 'group E': 4, 'group F': 5, 'group G': 6})\n",
    "df['parental level of education'] = df['parental level of education'].map({'some high school': 0, \n",
    "                                    'high school': 1, \"some college\": 2, \"associate's degree\": 3, \n",
    "                                    \"bachelor's degree\": 4, \"master's degree\": 5})\n",
    "\n",
    "df['avg score'] = df[['math score', 'reading score', 'writing score']].mean(axis=1)\n",
    "df['passed'] = df['avg score'] >= 75\n",
    "df_avg = df.drop(columns=['math score', 'reading score', 'writing score'])"
   ]
  },
  {
   "cell_type": "markdown",
   "metadata": {},
   "source": [
    "### neural net"
   ]
  },
  {
   "cell_type": "code",
   "execution_count": 23,
   "metadata": {},
   "outputs": [],
   "source": [
    "from sklearn.model_selection import train_test_split\n",
    "\n",
    "X_train_neural, X_test_neural, y_train_neural, y_test_neural = train_test_split(df_avg.drop(['avg score', 'passed'], axis=1), df_avg['passed'], test_size=0.2, random_state=21)\n",
    "\n",
    "from keras.models import Sequential\n",
    "from keras.layers import Dense\n",
    "\n",
    "neural_net = Sequential()\n",
    "\n",
    "neural_net.add(Dense(units = 16, activation = 'relu', input_dim = 5))\n",
    "neural_net.add(Dense(units = 8, activation = 'tanh'))\n",
    "neural_net.add(Dense(units = 6, activation = 'linear'))\n",
    "neural_net.add(Dense(units = 1, activation = 'sigmoid'))"
   ]
  },
  {
   "cell_type": "code",
   "execution_count": 24,
   "metadata": {},
   "outputs": [
    {
     "name": "stdout",
     "output_type": "stream",
     "text": [
      "Epoch 1/50\n",
      "800/800 [==============================] - 1s 850us/step - loss: 0.6674\n",
      "Epoch 2/50\n",
      "800/800 [==============================] - 1s 798us/step - loss: 0.6305\n",
      "Epoch 3/50\n",
      "800/800 [==============================] - 1s 789us/step - loss: 0.6105\n",
      "Epoch 4/50\n",
      "800/800 [==============================] - 1s 797us/step - loss: 0.6010\n",
      "Epoch 5/50\n",
      "800/800 [==============================] - 1s 793us/step - loss: 0.6024\n",
      "Epoch 6/50\n",
      "800/800 [==============================] - 1s 770us/step - loss: 0.5944\n",
      "Epoch 7/50\n",
      "800/800 [==============================] - 1s 789us/step - loss: 0.5958\n",
      "Epoch 8/50\n",
      "800/800 [==============================] - 1s 808us/step - loss: 0.6004\n",
      "Epoch 9/50\n",
      "800/800 [==============================] - 1s 781us/step - loss: 0.5930\n",
      "Epoch 10/50\n",
      "800/800 [==============================] - 1s 782us/step - loss: 0.5942\n",
      "Epoch 11/50\n",
      "800/800 [==============================] - 1s 748us/step - loss: 0.5937\n",
      "Epoch 12/50\n",
      "800/800 [==============================] - 1s 808us/step - loss: 0.5927\n",
      "Epoch 13/50\n",
      "800/800 [==============================] - 1s 767us/step - loss: 0.5864\n",
      "Epoch 14/50\n",
      "800/800 [==============================] - 1s 789us/step - loss: 0.5922\n",
      "Epoch 15/50\n",
      "800/800 [==============================] - 1s 820us/step - loss: 0.5917\n",
      "Epoch 16/50\n",
      "800/800 [==============================] - 1s 757us/step - loss: 0.5925\n",
      "Epoch 17/50\n",
      "800/800 [==============================] - 1s 949us/step - loss: 0.5885\n",
      "Epoch 18/50\n",
      "800/800 [==============================] - 1s 830us/step - loss: 0.5890\n",
      "Epoch 19/50\n",
      "800/800 [==============================] - 1s 766us/step - loss: 0.5891\n",
      "Epoch 20/50\n",
      "800/800 [==============================] - 1s 763us/step - loss: 0.5894\n",
      "Epoch 21/50\n",
      "800/800 [==============================] - 1s 755us/step - loss: 0.5864\n",
      "Epoch 22/50\n",
      "800/800 [==============================] - 1s 735us/step - loss: 0.5878\n",
      "Epoch 23/50\n",
      "800/800 [==============================] - 1s 763us/step - loss: 0.5870\n",
      "Epoch 24/50\n",
      "800/800 [==============================] - 1s 749us/step - loss: 0.5865\n",
      "Epoch 25/50\n",
      "800/800 [==============================] - 1s 746us/step - loss: 0.5828\n",
      "Epoch 26/50\n",
      "800/800 [==============================] - 1s 835us/step - loss: 0.5912\n",
      "Epoch 27/50\n",
      "800/800 [==============================] - 1s 830us/step - loss: 0.5858\n",
      "Epoch 28/50\n",
      "800/800 [==============================] - 1s 829us/step - loss: 0.5876\n",
      "Epoch 29/50\n",
      "800/800 [==============================] - 1s 816us/step - loss: 0.5866\n",
      "Epoch 30/50\n",
      "800/800 [==============================] - 1s 805us/step - loss: 0.5878\n",
      "Epoch 31/50\n",
      "800/800 [==============================] - 1s 810us/step - loss: 0.5832\n",
      "Epoch 32/50\n",
      "800/800 [==============================] - 1s 821us/step - loss: 0.5909\n",
      "Epoch 33/50\n",
      "800/800 [==============================] - 1s 1ms/step - loss: 0.5865\n",
      "Epoch 34/50\n",
      "800/800 [==============================] - 1s 879us/step - loss: 0.5876\n",
      "Epoch 35/50\n",
      "800/800 [==============================] - 1s 806us/step - loss: 0.5843\n",
      "Epoch 36/50\n",
      "800/800 [==============================] - 1s 790us/step - loss: 0.5844\n",
      "Epoch 37/50\n",
      "800/800 [==============================] - 1s 831us/step - loss: 0.5874\n",
      "Epoch 38/50\n",
      "800/800 [==============================] - 1s 769us/step - loss: 0.5875\n",
      "Epoch 39/50\n",
      "800/800 [==============================] - 1s 798us/step - loss: 0.5855\n",
      "Epoch 40/50\n",
      "800/800 [==============================] - 1s 781us/step - loss: 0.5807\n",
      "Epoch 41/50\n",
      "800/800 [==============================] - 1s 800us/step - loss: 0.5870\n",
      "Epoch 42/50\n",
      "800/800 [==============================] - 1s 756us/step - loss: 0.5856\n",
      "Epoch 43/50\n",
      "800/800 [==============================] - 1s 752us/step - loss: 0.5840\n",
      "Epoch 44/50\n",
      "800/800 [==============================] - 1s 771us/step - loss: 0.5863\n",
      "Epoch 45/50\n",
      "800/800 [==============================] - 1s 760us/step - loss: 0.5837\n",
      "Epoch 46/50\n",
      "800/800 [==============================] - 1s 770us/step - loss: 0.5876\n",
      "Epoch 47/50\n",
      "800/800 [==============================] - 1s 975us/step - loss: 0.5805\n",
      "Epoch 48/50\n",
      "800/800 [==============================] - 1s 992us/step - loss: 0.5844\n",
      "Epoch 49/50\n",
      "800/800 [==============================] - 1s 879us/step - loss: 0.5848\n",
      "Epoch 50/50\n",
      "800/800 [==============================] - 1s 1ms/step - loss: 0.5827\n"
     ]
    },
    {
     "data": {
      "text/plain": [
       "<keras.callbacks.History at 0x7fb3438e29a0>"
      ]
     },
     "execution_count": 24,
     "metadata": {},
     "output_type": "execute_result"
    }
   ],
   "source": [
    "neural_net.compile(optimizer = 'rmsprop', loss = 'binary_crossentropy')\n",
    "neural_net.fit(X_train_neural.astype(float), y_train_neural, batch_size = 1, epochs = 50)"
   ]
  },
  {
   "cell_type": "code",
   "execution_count": 25,
   "metadata": {},
   "outputs": [
    {
     "name": "stdout",
     "output_type": "stream",
     "text": [
      "7/7 [==============================] - 0s 959us/step\n"
     ]
    }
   ],
   "source": [
    "yhat_test_neural = neural_net.predict(X_test_neural.astype(float))\n",
    "yhat_test_neural = [ 1 if y>=0.5 else 0 for y in yhat_test_neural ]\n",
    "pd.Series(yhat_test_neural)\n",
    "\n",
    "yy_test_neural = y_test_neural.astype(int).reset_index(drop = True)"
   ]
  },
  {
   "cell_type": "code",
   "execution_count": 26,
   "metadata": {},
   "outputs": [],
   "source": [
    "#(i and j) or (not (i or j))\n",
    "def xnor(i, j):\n",
    "  return int((i and j) or (not (i or j)))"
   ]
  },
  {
   "cell_type": "code",
   "execution_count": 27,
   "metadata": {},
   "outputs": [
    {
     "data": {
      "text/html": [
       "<div>\n",
       "<style scoped>\n",
       "    .dataframe tbody tr th:only-of-type {\n",
       "        vertical-align: middle;\n",
       "    }\n",
       "\n",
       "    .dataframe tbody tr th {\n",
       "        vertical-align: top;\n",
       "    }\n",
       "\n",
       "    .dataframe thead th {\n",
       "        text-align: right;\n",
       "    }\n",
       "</style>\n",
       "<table border=\"1\" class=\"dataframe\">\n",
       "  <thead>\n",
       "    <tr style=\"text-align: right;\">\n",
       "      <th></th>\n",
       "      <th>yhat_test</th>\n",
       "      <th>y_test</th>\n",
       "      <th>correct</th>\n",
       "    </tr>\n",
       "  </thead>\n",
       "  <tbody>\n",
       "    <tr>\n",
       "      <th>0</th>\n",
       "      <td>0</td>\n",
       "      <td>1</td>\n",
       "      <td>0</td>\n",
       "    </tr>\n",
       "    <tr>\n",
       "      <th>1</th>\n",
       "      <td>0</td>\n",
       "      <td>0</td>\n",
       "      <td>1</td>\n",
       "    </tr>\n",
       "    <tr>\n",
       "      <th>2</th>\n",
       "      <td>0</td>\n",
       "      <td>0</td>\n",
       "      <td>1</td>\n",
       "    </tr>\n",
       "    <tr>\n",
       "      <th>3</th>\n",
       "      <td>0</td>\n",
       "      <td>0</td>\n",
       "      <td>1</td>\n",
       "    </tr>\n",
       "    <tr>\n",
       "      <th>4</th>\n",
       "      <td>0</td>\n",
       "      <td>0</td>\n",
       "      <td>1</td>\n",
       "    </tr>\n",
       "    <tr>\n",
       "      <th>...</th>\n",
       "      <td>...</td>\n",
       "      <td>...</td>\n",
       "      <td>...</td>\n",
       "    </tr>\n",
       "    <tr>\n",
       "      <th>195</th>\n",
       "      <td>0</td>\n",
       "      <td>0</td>\n",
       "      <td>1</td>\n",
       "    </tr>\n",
       "    <tr>\n",
       "      <th>196</th>\n",
       "      <td>0</td>\n",
       "      <td>0</td>\n",
       "      <td>1</td>\n",
       "    </tr>\n",
       "    <tr>\n",
       "      <th>197</th>\n",
       "      <td>1</td>\n",
       "      <td>1</td>\n",
       "      <td>1</td>\n",
       "    </tr>\n",
       "    <tr>\n",
       "      <th>198</th>\n",
       "      <td>0</td>\n",
       "      <td>0</td>\n",
       "      <td>1</td>\n",
       "    </tr>\n",
       "    <tr>\n",
       "      <th>199</th>\n",
       "      <td>0</td>\n",
       "      <td>0</td>\n",
       "      <td>1</td>\n",
       "    </tr>\n",
       "  </tbody>\n",
       "</table>\n",
       "<p>200 rows × 3 columns</p>\n",
       "</div>"
      ],
      "text/plain": [
       "     yhat_test  y_test  correct\n",
       "0            0       1        0\n",
       "1            0       0        1\n",
       "2            0       0        1\n",
       "3            0       0        1\n",
       "4            0       0        1\n",
       "..         ...     ...      ...\n",
       "195          0       0        1\n",
       "196          0       0        1\n",
       "197          1       1        1\n",
       "198          0       0        1\n",
       "199          0       0        1\n",
       "\n",
       "[200 rows x 3 columns]"
      ]
     },
     "execution_count": 27,
     "metadata": {},
     "output_type": "execute_result"
    }
   ],
   "source": [
    "testdf = pd.DataFrame()\n",
    "testdf['yhat_test'] = yhat_test_neural\n",
    "testdf['y_test'] = yy_test_neural\n",
    "testdf['correct'] = testdf.apply(lambda x: xnor(x.yhat_test, x.y_test), axis=1)\n",
    "testdf"
   ]
  },
  {
   "cell_type": "code",
   "execution_count": 28,
   "metadata": {},
   "outputs": [
    {
     "name": "stdout",
     "output_type": "stream",
     "text": [
      "Total 200\n",
      "Correct 143\n",
      "Wrong 57\n"
     ]
    }
   ],
   "source": [
    "print(\"Total \" + str(testdf.shape[0]))\n",
    "print(\"Correct \" + str(testdf.correct.sum()))\n",
    "print(\"Wrong \" + str(testdf.shape[0] - testdf.correct.sum()))"
   ]
  },
  {
   "cell_type": "code",
   "execution_count": 29,
   "metadata": {},
   "outputs": [
    {
     "data": {
      "text/plain": [
       "array([[132,  13],\n",
       "       [ 44,  11]])"
      ]
     },
     "metadata": {},
     "output_type": "display_data"
    },
    {
     "data": {
      "text/plain": [
       "<sklearn.metrics._plot.confusion_matrix.ConfusionMatrixDisplay at 0x7fb342f9b370>"
      ]
     },
     "execution_count": 29,
     "metadata": {},
     "output_type": "execute_result"
    },
    {
     "data": {
      "image/png": "[encoded data removed]",
      "text/plain": [
       "<Figure size 640x480 with 2 Axes>"
      ]
     },
     "metadata": {},
     "output_type": "display_data"
    }
   ],
   "source": [
    "from sklearn.metrics import confusion_matrix, ConfusionMatrixDisplay\n",
    "\n",
    "# Let's create our confusion matrix and display it\n",
    "myconfusionmatrix_neural = confusion_matrix(y_test_neural, yhat_test_neural)\n",
    "display(myconfusionmatrix_neural)\n",
    "\n",
    "mycmdisp_neural = ConfusionMatrixDisplay(confusion_matrix=myconfusionmatrix_neural)\n",
    "mycmdisp_neural.plot()"
   ]
  },
  {
   "cell_type": "code",
   "execution_count": 30,
   "metadata": {},
   "outputs": [
    {
     "name": "stdout",
     "output_type": "stream",
     "text": [
      "testing classification report\n",
      "              precision    recall  f1-score   support\n",
      "\n",
      "       False       0.75      0.91      0.82       145\n",
      "        True       0.46      0.20      0.28        55\n",
      "\n",
      "    accuracy                           0.71       200\n",
      "   macro avg       0.60      0.56      0.55       200\n",
      "weighted avg       0.67      0.71      0.67       200\n",
      "\n",
      "training classification report\n",
      "25/25 [==============================] - 0s 881us/step\n",
      "              precision    recall  f1-score   support\n",
      "\n",
      "       False       0.72      0.88      0.80       531\n",
      "        True       0.59      0.34      0.43       269\n",
      "\n",
      "    accuracy                           0.70       800\n",
      "   macro avg       0.66      0.61      0.61       800\n",
      "weighted avg       0.68      0.70      0.67       800\n",
      "\n"
     ]
    }
   ],
   "source": [
    "# Let's import our classification report and print it\n",
    "from sklearn.metrics import classification_report\n",
    "print('testing classification report')\n",
    "print(classification_report(y_test_neural, yhat_test_neural))\n",
    "\n",
    "print('training classification report')\n",
    "yhat_train_neural = neural_net.predict(X_train_neural.astype(float))\n",
    "yhat_train_neural = [ 1 if y>=0.5 else 0 for y in yhat_train_neural]\n",
    "yy_train_neural = y_train_neural.astype(int).reset_index(drop = True)\n",
    "pd.Series(yhat_train_neural)\n",
    "\n",
    "testdf = pd.DataFrame()\n",
    "testdf['yhat_train'] = yhat_train_neural\n",
    "testdf['y_train'] = yy_train_neural\n",
    "testdf['correct'] = testdf.apply(lambda x: xnor(x.yhat_train, x.y_train), axis=1)\n",
    "\n",
    "print(classification_report(y_train_neural, yhat_train_neural))\n"
   ]
  },
  {
   "cell_type": "code",
   "execution_count": 31,
   "metadata": {},
   "outputs": [],
   "source": [
    "def TP(i, j):\n",
    "    return i and j\n",
    "\n",
    "def TN(i, j):\n",
    "    return not i and not j"
   ]
  },
  {
   "cell_type": "code",
   "execution_count": 32,
   "metadata": {},
   "outputs": [
    {
     "name": "stdout",
     "output_type": "stream",
     "text": [
      "totals for testing set\n",
      "total positive for testing: 24\n",
      "TP: 11\n",
      "TN: 132\n",
      "totals for training set\n",
      "total positive for training: 153\n",
      "TP: 91\n",
      "TN: 469\n"
     ]
    }
   ],
   "source": [
    "# testing\n",
    "print('totals for testing set')\n",
    "print(f'total positive for testing: {np.count_nonzero(yhat_test_neural)}')\n",
    "testdf = pd.DataFrame()\n",
    "testdf['yhat_test'] = yhat_test_neural\n",
    "testdf['y_test'] = np.array(y_test_neural)\n",
    "print(f'TP: {np.count_nonzero(testdf.apply(lambda i: TP(i.yhat_test, i.y_test), axis=1))}')\n",
    "print(f'TN: {np.count_nonzero(testdf.apply(lambda i: TN(i.yhat_test, i.y_test), axis=1))}')\n",
    "\n",
    "# training\n",
    "print('totals for training set')\n",
    "print(f'total positive for training: {np.count_nonzero(yhat_train_neural)}')\n",
    "traindf = pd.DataFrame()\n",
    "traindf['yhat_train'] = yhat_train_neural\n",
    "traindf['y_train'] = np.array(y_train_neural)\n",
    "print(f'TP: {np.count_nonzero(traindf.apply(lambda i: TP(i.yhat_train, i.y_train), axis=1))}')\n",
    "print(f'TN: {np.count_nonzero(traindf.apply(lambda i: TN(i.yhat_train, i.y_train), axis=1))}')"
   ]
  },
  {
   "cell_type": "markdown",
   "metadata": {},
   "source": [
    "## Calculations of TP, FP, TN, FN for Neural Net model\n",
    "### Testing\n",
    "\n",
    "- total positive = 62\n",
    "- total negative = 200 - 62 = 138\n",
    "\n",
    "- true positive = 27\n",
    "- false positive = 62 - 27 = 35\n",
    "\n",
    "- true negative = 110\n",
    "- false negative = 138 - 110 = 28\n",
    "\n",
    "### Training Set\n",
    "- total positive = 305\n",
    "- total negative = 800 - 305 = 495\n",
    "\n",
    "- true positive = 160\n",
    "- false positive = 305 - 160 = 145\n",
    "\n",
    "- true negative = 386\n",
    "- false negative = 495 - 386 = 109\n"
   ]
  }
 ],
 "metadata": {
  "kernelspec": {
   "display_name": "Python 3.9.6 64-bit",
   "language": "python",
   "name": "python3"
  },
  "language_info": {
   "codemirror_mode": {
    "name": "ipython",
    "version": 3
   },
   "file_extension": ".py",
   "mimetype": "text/x-python",
   "name": "python",
   "nbconvert_exporter": "python",
   "pygments_lexer": "ipython3",
   "version": "3.9.6"
  },
  "orig_nbformat": 4,
  "vscode": {
   "interpreter": {
    "hash": "949777d72b0d2535278d3dc13498b2535136f6dfe0678499012e853ee9abcab1"
   }
  }
 },
 "nbformat": 4,
 "nbformat_minor": 2
}
