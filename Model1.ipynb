{
 "cells": [
  {
   "cell_type": "markdown",
   "metadata": {},
   "source": [
    "## First Model: Naive Bayes (Categorical and Gaussian)\n",
    "- Categorical Naive Bayes was used on all categorical attributes\n",
    "- Gaussian Naive Bayes was uses on all numerical attributes\n",
    "\n",
    "NOTE: the Gaussian Naive Bayes is included as a sanity check - the values of `avg score` and `passed` are directly calculated from the three section scores, so the model should be highly accurate"
   ]
  },
  {
   "cell_type": "code",
   "execution_count": 1,
   "metadata": {},
   "outputs": [],
   "source": [
    "import pandas as pd\n",
    "import numpy as np\n",
    "\n",
    "df = pd.read_csv('StudentsPerformance.csv')\n",
    "df.gender = df.gender == 'male'\n",
    "df.lunch = df.lunch == 'standard'\n",
    "df['test preparation course'] = df['test preparation course'] == 'completed'\n",
    "df['race/ethnicity'] = df['race/ethnicity'].map({'group A': 0, 'group B': 1, 'group C': 2, 'group D': 3, 'group E': 4, 'group F': 5, 'group G': 6})\n",
    "df['parental level of education'] = df['parental level of education'].map({'some high school': 0, \n",
    "                                    'high school': 1, \"some college\": 2, \"associate's degree\": 3, \n",
    "                                    \"bachelor's degree\": 4, \"master's degree\": 5})\n",
    "\n",
    "df['avg score'] = df[['math score', 'reading score', 'writing score']].mean(axis=1)\n",
    "df['passed'] = df['avg score'] >= 75\n",
    "df_avg = df.drop(columns=['math score', 'reading score', 'writing score'])"
   ]
  },
  {
   "cell_type": "markdown",
   "metadata": {},
   "source": [
    "### categorical naive bayes classifier on the categorical attributes in our dataset"
   ]
  },
  {
   "cell_type": "code",
   "execution_count": 2,
   "metadata": {},
   "outputs": [],
   "source": [
    "from sklearn.naive_bayes import CategoricalNB\n",
    "from sklearn.metrics import classification_report\n",
    "from sklearn.model_selection import train_test_split\n",
    "from sklearn.naive_bayes import GaussianNB\n",
    "from sklearn.preprocessing import MinMaxScaler\n",
    "\n",
    "# the target attribute is 'passed'\n",
    "X = df.drop(['passed'], axis=1)\n",
    "y = df['passed']\n",
    "\n",
    "# categorical attributes: ['gender', 'race/ethnicity', 'parental level of education', 'lunch', 'test preparation course']\n",
    "# numerical attributes: ['math score', 'reading score', 'writing score']\n",
    "X_cat = X[['gender', 'race/ethnicity', 'parental level of education', 'lunch', 'test preparation course']]\n",
    "X_num = X[['math score', 'reading score', 'writing score']]\n",
    "\n",
    "# scale numerical data\n",
    "scaler = MinMaxScaler()\n",
    "X_num = pd.DataFrame(scaler.fit_transform(X_num))\n",
    "\n",
    "# split the data into training and testing set with the ratio 80:20\n",
    "X_train_cat, X_test_cat, y_train_cat, y_test_cat = train_test_split(X_cat, y, test_size = 0.20, stratify=y, random_state=5)\n",
    "X_train_num, X_test_num, y_train_num, y_test_num = train_test_split(X_num, y, test_size = 0.20, stratify=y, random_state=5)"
   ]
  },
  {
   "cell_type": "code",
   "execution_count": 3,
   "metadata": {},
   "outputs": [
    {
     "name": "stdout",
     "output_type": "stream",
     "text": [
      "Classes:  [False  True]\n",
      "Class Log Priors:  [-0.39119245 -1.12778367]\n",
      "Accuracy Score: 68.0%\n"
     ]
    }
   ],
   "source": [
    "#CATEGORICAL \n",
    "model_cat = CategoricalNB()\n",
    "cat = model_cat.fit(X_train_cat, y_train_cat)\n",
    "\n",
    "# Predict class labels on test data\n",
    "yhat_test_cat = cat.predict(X_test_cat)\n",
    "\n",
    "# class labels known to the classifier\n",
    "print('Classes: ', cat.classes_)\n",
    "\n",
    "# log prior probability of each class.\n",
    "print('Class Log Priors: ',cat.class_log_prior_)\n",
    "\n",
    "score_cat = model_cat.score(X_test_cat, y_test_cat)\n",
    "print(f'Accuracy Score: {score_cat * 100}%')"
   ]
  },
  {
   "cell_type": "markdown",
   "metadata": {},
   "source": [
    "### compare testing and training error"
   ]
  },
  {
   "cell_type": "code",
   "execution_count": 4,
   "metadata": {},
   "outputs": [
    {
     "name": "stdout",
     "output_type": "stream",
     "text": [
      "testing classification report - categorical\n",
      "              precision    recall  f1-score   support\n",
      "\n",
      "       False       0.71      0.89      0.79       135\n",
      "        True       0.52      0.25      0.33        65\n",
      "\n",
      "    accuracy                           0.68       200\n",
      "   macro avg       0.61      0.57      0.56       200\n",
      "weighted avg       0.65      0.68      0.64       200\n",
      "\n",
      "training classification report - categorical\n",
      "              precision    recall  f1-score   support\n",
      "\n",
      "       False       0.72      0.91      0.80       541\n",
      "        True       0.58      0.25      0.35       259\n",
      "\n",
      "    accuracy                           0.70       800\n",
      "   macro avg       0.65      0.58      0.58       800\n",
      "weighted avg       0.67      0.70      0.66       800\n",
      "\n"
     ]
    }
   ],
   "source": [
    "# CATEGORICAL\n",
    "# report the testing result using a classification report\n",
    "print('testing classification report - categorical')\n",
    "print(classification_report(y_test_cat, yhat_test_cat))\n",
    "# report the training result using a classification report\n",
    "print('training classification report - categorical')\n",
    "yhat_train_cat = cat.predict(X_train_cat)\n",
    "print(classification_report(y_train_cat, yhat_train_cat))"
   ]
  },
  {
   "cell_type": "code",
   "execution_count": 5,
   "metadata": {},
   "outputs": [],
   "source": [
    "def TP(i, j):\n",
    "    return i and j\n",
    "\n",
    "def TN(i, j):\n",
    "    return not i and not j"
   ]
  },
  {
   "cell_type": "code",
   "execution_count": 6,
   "metadata": {},
   "outputs": [
    {
     "name": "stdout",
     "output_type": "stream",
     "text": [
      "totals for testing set\n",
      "total positive for testing: 31\n",
      "TP: 16\n",
      "TN: 120\n",
      "totals for training set\n",
      "total positive for training: 113\n",
      "TP: 65\n",
      "TN: 493\n"
     ]
    }
   ],
   "source": [
    "# testing\n",
    "print('totals for testing set')\n",
    "print(f'total positive for testing: {np.count_nonzero(yhat_test_cat)}')\n",
    "testdf = pd.DataFrame()\n",
    "testdf['yhat_test'] = yhat_test_cat\n",
    "testdf['y_test'] = np.array(y_test_cat)\n",
    "print(f'TP: {np.count_nonzero(testdf.apply(lambda i: TP(i.yhat_test, i.y_test), axis=1))}')\n",
    "print(f'TN: {np.count_nonzero(testdf.apply(lambda i: TN(i.yhat_test, i.y_test), axis=1))}')\n",
    "\n",
    "# training\n",
    "print('totals for training set')\n",
    "print(f'total positive for training: {np.count_nonzero(yhat_train_cat)}')\n",
    "traindf = pd.DataFrame()\n",
    "traindf['yhat_train'] = yhat_train_cat\n",
    "traindf['y_train'] = np.array(y_train_cat)\n",
    "print(f'TP: {np.count_nonzero(traindf.apply(lambda i: TP(i.yhat_train, i.y_train), axis=1))}')\n",
    "print(f'TN: {np.count_nonzero(traindf.apply(lambda i: TN(i.yhat_train, i.y_train), axis=1))}')"
   ]
  },
  {
   "cell_type": "code",
   "execution_count": 7,
   "metadata": {},
   "outputs": [
    {
     "name": "stdout",
     "output_type": "stream",
     "text": [
      "confusion matrix for categorical naive bayes model\n"
     ]
    },
    {
     "data": {
      "text/plain": [
       "array([[120,  15],\n",
       "       [ 49,  16]])"
      ]
     },
     "metadata": {},
     "output_type": "display_data"
    },
    {
     "data": {
      "text/plain": [
       "<sklearn.metrics._plot.confusion_matrix.ConfusionMatrixDisplay at 0x7fb16fd7bd60>"
      ]
     },
     "execution_count": 7,
     "metadata": {},
     "output_type": "execute_result"
    },
    {
     "data": {
      "image/png": "[encoded data removed]",
      "text/plain": [
       "<Figure size 640x480 with 2 Axes>"
      ]
     },
     "metadata": {},
     "output_type": "display_data"
    }
   ],
   "source": [
    "from sklearn.metrics import confusion_matrix, ConfusionMatrixDisplay\n",
    "myconfusionmatrix_cat = confusion_matrix(y_test_cat, yhat_test_cat)\n",
    "print('confusion matrix for categorical naive bayes model')\n",
    "display(myconfusionmatrix_cat)\n",
    "\n",
    "mycmdisp_cat = ConfusionMatrixDisplay(confusion_matrix=myconfusionmatrix_cat, display_labels=model_cat.classes_)\n",
    "mycmdisp_cat.plot()"
   ]
  },
  {
   "cell_type": "markdown",
   "metadata": {},
   "source": [
    "## Calculations of TP, FP, TN, FN for CategoricalNB model\n",
    "### Testing\n",
    "\n",
    "- total positive = 31\n",
    "- total negative = 200 - 31 = 169\n",
    "\n",
    "- true positive = 16\n",
    "- false positive = 31 - 16 = 15\n",
    "\n",
    "- true negative = 120\n",
    "- false negative = 169 - 120 = 49\n",
    "\n",
    "### Training\n",
    "\n",
    "- total positive = 113\n",
    "- total negative = 800 - 113 = 687\n",
    "\n",
    "- true positive = 65\n",
    "- false positive = 113 - 65 = 48\n",
    "\n",
    "- true negative = 493\n",
    "- false negative = 687 - 493 = 194\n"
   ]
  }
 ],
 "metadata": {
  "kernelspec": {
   "display_name": "Python 3.9.6 64-bit",
   "language": "python",
   "name": "python3"
  },
  "language_info": {
   "codemirror_mode": {
    "name": "ipython",
    "version": 3
   },
   "file_extension": ".py",
   "mimetype": "text/x-python",
   "name": "python",
   "nbconvert_exporter": "python",
   "pygments_lexer": "ipython3",
   "version": "3.9.6"
  },
  "orig_nbformat": 4,
  "vscode": {
   "interpreter": {
    "hash": "949777d72b0d2535278d3dc13498b2535136f6dfe0678499012e853ee9abcab1"
   }
  }
 },
 "nbformat": 4,
 "nbformat_minor": 2
}
